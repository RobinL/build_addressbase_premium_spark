{
 "cells": [
  {
   "cell_type": "code",
   "execution_count": null,
   "metadata": {},
   "outputs": [],
   "source": [
    "# Most files do not seem to have recordtype 30 in them.  It would be useful to find an example of a file that did \n",
    "from bs4 import BeautifulSoup\n",
    "\n",
    "with open(\"download_html/os_download_links_page.htm\") as f:\n",
    "    soup = BeautifulSoup(f.read())\n",
    "\n",
    "soup.find(\"a\")\n",
    "\n",
    "el = soup.find(text = \"Number of Files:\").parent.parent\n",
    "num = el.text.replace(\"Number of Files:\", \"\").strip()\n",
    "numfiles = int(num)\n",
    "\n",
    "my_links = set()\n",
    "for a in soup.findAll(\"a\"):\n",
    "    if \"href\" in a.attrs:\n",
    "        if \"AB76DL\" in a[\"href\"]:  # This is a bit of trial and error, but it turned out that the download links all contain \"AB76DL\" as part of the URL\n",
    "            my_links.add(a[\"href\"])\n",
    "my_links = list(my_links)\n",
    "\n",
    "# Check we've found the right number of links\n",
    "if (len(my_links) != numfiles):\n",
    "    raise Exception"
   ]
  },
  {
   "cell_type": "code",
   "execution_count": null,
   "metadata": {},
   "outputs": [],
   "source": [
    "# For py 2 and 3 compataibility\n",
    "try:\n",
    "    import urllib.request as urlrequest\n",
    "except ImportError:\n",
    "    import urllib as urlrequest\n",
    "    \n",
    "import re\n",
    "\n",
    "import requests, zipfile, io\n"
   ]
  },
  {
   "cell_type": "code",
   "execution_count": null,
   "metadata": {},
   "outputs": [],
   "source": [
    "counter = -1\n",
    "for my_link in my_links:\n",
    "    counter +=1\n",
    "    if counter % 50 == 0:\n",
    "        print(f\"counter {counter} got to file {my_link}\")\n",
    "    r = requests.get(my_link)\n",
    "    z = zipfile.ZipFile(io.BytesIO(r.content))\n",
    "    z.extractall()\n",
    "\n",
    "    contents = z.filelist[0]  #assume there is just one file.  Check it's a csv else error\n",
    "    file_bytes = z.open(contents).read()\n",
    "\n",
    "\n",
    "    lines = file_bytes.decode(\"utf-8\").split(\"\\r\\n\")\n",
    "\n",
    "    lines_30 = [l for l in lines if l[0:2] == '30']\n",
    "    \n",
    "    if len(lines_30) > 0:\n",
    "        print(f\"found link {my_link}\")\n",
    "        break"
   ]
  },
  {
   "cell_type": "code",
   "execution_count": null,
   "metadata": {},
   "outputs": [],
   "source": []
  }
 ],
 "metadata": {
  "kernelspec": {
   "display_name": "Python 3",
   "language": "python",
   "name": "python3"
  },
  "language_info": {
   "codemirror_mode": {
    "name": "ipython",
    "version": 3
   },
   "file_extension": ".py",
   "mimetype": "text/x-python",
   "name": "python",
   "nbconvert_exporter": "python",
   "pygments_lexer": "ipython3",
   "version": "3.6.3"
  }
 },
 "nbformat": 4,
 "nbformat_minor": 2
}
