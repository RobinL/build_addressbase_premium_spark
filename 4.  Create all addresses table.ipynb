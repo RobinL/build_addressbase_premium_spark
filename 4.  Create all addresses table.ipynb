{
 "cells": [
  {
   "cell_type": "code",
   "execution_count": null,
   "metadata": {},
   "outputs": [],
   "source": [
    "# Create a temp table for each table\n",
    "for k,v in table_names.items():\n",
    "    try:\n",
    "        df = spark.read.parquet(\"s3a://alpha-everyone/deleteathenaout/abpparquet/{}\".format(v[\"tablename\"]))\n",
    "    except AnalysisException:\n",
    "        continue\n",
    "    \n",
    "    df.createOrReplaceTempView(v[\"tablename\"])\n"
   ]
  },
  {
   "cell_type": "code",
   "execution_count": null,
   "metadata": {},
   "outputs": [],
   "source": [
    "sql = \"\"\"\n",
    "\n",
    "\n",
    "SELECT  \n",
    "b.uprn as uprn,\n",
    "b.postcode_locator as postcode,\n",
    "CLASSIFICATION_CODE,\n",
    "b.latitude,\n",
    "b.longitude,\n",
    "\n",
    "/*\n",
    "Concatenate a single GEOGRAPHIC address line label\n",
    "This code takes into account all possible combinations os pao/sao numbers and suffixes \n",
    "*/\n",
    "\n",
    "\n",
    "case\n",
    "when o.organisation is not null then o.organisation||' ' else '' end\n",
    "-- Secondary Addressable Information \n",
    "||case when l.sao_text is not null then l.sao_text||' ' else '' end\n",
    "-- case statement for different combinations of the sao start numbers (e.g. if no sao start suffix)\n",
    "||case\n",
    "when l.sao_start_number is not null and l.sao_start_suffix is null and l.sao_end_number is null\n",
    "then l.sao_start_number||' '\n",
    "when l.sao_start_number is null then '' else l.sao_start_number||'' end\n",
    "-- case statement for different combinations of the sao start suffixes (e.g. if no sao end number)\n",
    "||case\n",
    "when l.sao_start_suffix is not null and l.sao_end_number is null then l.sao_start_suffix||' '\n",
    "when l.sao_start_suffix is not null and l.sao_end_number is not null then l.sao_start_suffix else '' end\n",
    "-- Add a '-' between the start and end of the secondary address (e.g. only when sao start and sao end)\n",
    "||case\n",
    "when l.sao_end_suffix is not null and l.sao_end_number is not null then '-'\n",
    "when l.sao_start_number is not null and l.sao_end_number is not null then '-'else '' end\n",
    "-- case statement for different combinations of the sao end numbers and sao end suffixes\n",
    "||case\n",
    "when l.sao_end_number is not null and l.sao_end_suffix is null then l.sao_end_number||' '\n",
    "when l.sao_end_number is null then '' else l.sao_end_number end\n",
    "-- pao end suffix\n",
    "||case when l.sao_end_suffix is not null then l.sao_end_suffix||' ' else '' end\n",
    "-- Primary Addressable Information \n",
    "||case when l.pao_text is not null then l.pao_text||' ' else '' end\n",
    "-- case statement for different combinations of the pao start numbers (e.g. if no pao start suffix)\n",
    "||case\n",
    "when l.pao_start_number is not null and l.pao_start_suffix is null and l.pao_end_number is null\n",
    "then l.pao_start_number||' '\n",
    "when l.pao_start_number is null then ''\n",
    "else l.pao_start_number||'' end\n",
    "-- case statement for different combinations of the pao start suffixes (e.g. if no pao end number)\n",
    "||case\n",
    "when l.pao_start_suffix is not null and l.pao_end_number is null then l.pao_start_suffix||' '\n",
    "when l.pao_start_suffix is not null and l.pao_end_number is not null then l.pao_start_suffix\n",
    "else '' end\n",
    "-- Add a '-' between the start and end of the primary address (e.g. only when pao start and pao end)\n",
    "||case\n",
    "when l.pao_end_suffix is not null and l.pao_end_number is not null then '-'\n",
    "when l.pao_start_number is not null and l.pao_end_number is not null then '-'\n",
    "else '' end\n",
    "-- case statement for different combinations of the pao end numbers and pao end suffixes\n",
    "||case\n",
    "when l.pao_end_number is not null and l.pao_end_suffix is null then l.pao_end_number||' '\n",
    "when l.pao_end_number is null then ''\n",
    "else l.pao_end_number end\n",
    "-- pao end suffix\n",
    "||case when l.pao_end_suffix is not null then l.pao_end_suffix||' ' else '' end\n",
    "-- Street Information \n",
    "||case when s.street_description is not null then s.street_description||' ' else '' end\n",
    "-- Locality----- \n",
    "||case when s.locality_name is not null then s.locality_name||' ' else '' end\n",
    "\n",
    "-- Town-------- \n",
    "||case when s.town_name is not null then s.town_name||' ' else '' end\n",
    "-- Postcode--- \n",
    "||case when b.postcode_locator is not null then b.postcode_locator else '' end\n",
    "AS full_address\n",
    " \n",
    " \n",
    " \n",
    " \n",
    "FROM \n",
    "abp_street_descriptor AS s, \n",
    "abp_classification as c,\n",
    "abp_lpi as l \n",
    "full outer join abp_organisation AS o on (l.uprn = o.uprn),\n",
    "abp_blpu AS b\n",
    "\n",
    "\n",
    "WHERE b.uprn = l.uprn and b.filename=l.filename\n",
    "AND l.usrn = s.usrn and l.filename=s.filename\n",
    "AND b.uprn = c.uprn and b.filename=c.filename\n",
    "and ADDRESSBASE_POSTAL != 'N' \n",
    "\"\"\""
   ]
  },
  {
   "cell_type": "code",
   "execution_count": null,
   "metadata": {},
   "outputs": [],
   "source": [
    "geographic_addresses =  spark.sql(sql)"
   ]
  },
  {
   "cell_type": "code",
   "execution_count": null,
   "metadata": {},
   "outputs": [],
   "source": [
    "sql = \"\"\"\n",
    "SELECT\n",
    "d.uprn as uprn,\n",
    "postcode,\n",
    "CLASSIFICATION_CODE,\n",
    "b.latitude,\n",
    "b.longitude,\n",
    "(\n",
    " CASE WHEN department_name IS NOT NULL THEN department_name || ' ' ELSE '' END\n",
    " || CASE WHEN organisation_name IS NOT NULL THEN organisation_name || ' ' ELSE '' END\n",
    " || CASE WHEN sub_building_name IS NOT NULL THEN sub_building_name || ' ' ELSE '' END\n",
    " || CASE WHEN building_name IS NOT NULL THEN building_name || ' ' ELSE '' END\n",
    " || CASE WHEN building_number IS NOT NULL THEN building_number || ' ' ELSE '' END\n",
    " || CASE WHEN po_box_number IS NOT NULL THEN 'PO BOX ' || po_box_number || ' ' ELSE '' END\n",
    " || CASE WHEN dependent_thoroughfare IS NOT NULL THEN dependent_thoroughfare || ' ' ELSE '' END\n",
    " || CASE WHEN thoroughfare IS NOT NULL THEN thoroughfare || ' ' ELSE '' END\n",
    " || CASE WHEN double_dependent_locality IS NOT NULL THEN double_dependent_locality || ' ' ELSE '' END\n",
    " || CASE WHEN dependent_locality IS NOT NULL THEN dependent_locality  || ' ' ELSE '' END\n",
    " || CASE WHEN post_town IS NOT NULL THEN post_town || ' ' ELSE '' END\n",
    " || postcode\n",
    ") AS full_address\n",
    "FROM abp_delivery_point as d\n",
    "left join abp_blpu as b\n",
    "on d.uprn=b.uprn\n",
    "left join abp_classification as c\n",
    "on b.uprn = c.uprn\n",
    "\n",
    "\"\"\""
   ]
  },
  {
   "cell_type": "code",
   "execution_count": null,
   "metadata": {},
   "outputs": [],
   "source": [
    "delivery_addresses =  spark.sql(sql)"
   ]
  },
  {
   "cell_type": "code",
   "execution_count": null,
   "metadata": {},
   "outputs": [],
   "source": []
  },
  {
   "cell_type": "code",
   "execution_count": null,
   "metadata": {},
   "outputs": [],
   "source": [
    "all_addresses = geographic_addresses.union(delivery_addresses)"
   ]
  },
  {
   "cell_type": "code",
   "execution_count": null,
   "metadata": {},
   "outputs": [],
   "source": [
    "all_addresses.toPandas()"
   ]
  },
  {
   "cell_type": "code",
   "execution_count": null,
   "metadata": {},
   "outputs": [],
   "source": []
  },
  {
   "cell_type": "code",
   "execution_count": null,
   "metadata": {},
   "outputs": [],
   "source": []
  },
  {
   "cell_type": "code",
   "execution_count": null,
   "metadata": {},
   "outputs": [],
   "source": [
    "https://github.com/RobinL/build_addressbase_premium_spark/blob/d601368ab7f8cb7555c31634b21df15428487014/find_file_with_recordtype.ipynb"
   ]
  }
 ],
 "metadata": {
  "kernelspec": {
   "display_name": "Python 3",
   "language": "python",
   "name": "python3"
  },
  "language_info": {
   "codemirror_mode": {
    "name": "ipython",
    "version": 3
   },
   "file_extension": ".py",
   "mimetype": "text/x-python",
   "name": "python",
   "nbconvert_exporter": "python",
   "pygments_lexer": "ipython3",
   "version": "3.6.3"
  }
 },
 "nbformat": 4,
 "nbformat_minor": 2
}
