{
 "cells": [
  {
   "cell_type": "code",
   "execution_count": null,
   "metadata": {},
   "outputs": [],
   "source": [
    "from pyspark.sql import functions as fns\n",
    "from pyspark import  SparkContext\n",
    "from pyspark.sql import SparkSession\n",
    "from pyspark.sql.utils import AnalysisException\n",
    "from pyspark.sql.types import StructType\n",
    "sc = SparkContext.getOrCreate()\n",
    "spark = SparkSession(sc)"
   ]
  },
  {
   "cell_type": "code",
   "execution_count": null,
   "metadata": {},
   "outputs": [],
   "source": [
    "import json\n",
    "with open(\"table_names.json\", \"r\") as f:\n",
    "    table_names = json.load(f)"
   ]
  },
  {
   "cell_type": "code",
   "execution_count": null,
   "metadata": {},
   "outputs": [],
   "source": [
    "# Want to partition based on filename.\n",
    "\n",
    "for k,v in table_names.items():\n",
    "    # Some tables e.g. id 30 have very few records (possibly none?)\n",
    "    print(v[\"filename\"])\n",
    "    \n",
    "    # Load in Spark schema so we read with the correct datatypes\n",
    "    with open(\"spark_schemas/{}.json\".format(v[\"tablename\"]), \"r\") as f:\n",
    "        jsonschema = json.load(f)\n",
    "    schema = StructType.fromJson(jsonschema)\n",
    "    try:\n",
    "        df =  spark.read.csv(\"s3a://alpha-everyone/deleteathenaout/outtemp/first_col={}\".format(v[\"partition\"]), schema=schema)\n",
    "    except AnalysisException:\n",
    "        continue\n",
    "\n",
    "    \n",
    "    headings = v[\"headings\"]\n",
    "    headings = headings + [\"filename\"]\n",
    "    df = df.toDF(*headings)\n",
    "    \n",
    "    df.write.parquet(\"s3a://alpha-everyone/deleteathenaout/abpparquet/{}\".format(v[\"tablename\"]), mode=\"overwrite\")\n",
    "    "
   ]
  },
  {
   "cell_type": "code",
   "execution_count": null,
   "metadata": {},
   "outputs": [],
   "source": []
  },
  {
   "cell_type": "code",
   "execution_count": null,
   "metadata": {},
   "outputs": [],
   "source": []
  },
  {
   "cell_type": "code",
   "execution_count": null,
   "metadata": {},
   "outputs": [],
   "source": []
  },
  {
   "cell_type": "code",
   "execution_count": null,
   "metadata": {},
   "outputs": [],
   "source": [
    "# Create a temp table for each table\n",
    "for k,v in table_names.items():\n",
    "    try:\n",
    "        df = spark.read.parquet(\"s3a://alpha-everyone/deleteathenaout/abpparquet/{}\".format(v[\"tablename\"]))\n",
    "    except AnalysisException:\n",
    "        continue\n",
    "    \n",
    "    df.createOrReplaceTempView(v[\"tablename\"])\n"
   ]
  },
  {
   "cell_type": "code",
   "execution_count": null,
   "metadata": {},
   "outputs": [],
   "source": [
    "all_addresses = geographic_addresses.union(delivery_addresses)"
   ]
  }
 ],
 "metadata": {
  "kernelspec": {
   "display_name": "Python 3",
   "language": "python",
   "name": "python3"
  },
  "language_info": {
   "codemirror_mode": {
    "name": "ipython",
    "version": 3
   },
   "file_extension": ".py",
   "mimetype": "text/x-python",
   "name": "python",
   "nbconvert_exporter": "python",
   "pygments_lexer": "ipython3",
   "version": "3.6.3"
  }
 },
 "nbformat": 4,
 "nbformat_minor": 2
}
