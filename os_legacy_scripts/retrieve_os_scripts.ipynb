{
 "cells": [
  {
   "cell_type": "code",
   "execution_count": 3,
   "metadata": {},
   "outputs": [],
   "source": [
    "from urllib.request import urlopen\n",
    "from zipfile import ZipFile\n",
    "from io import BytesIO\n",
    "\n",
    "link = \"https://s3-eu-west-1.amazonaws.com/osproducts/AddressBase/AddressBase_Scripts.zip\"\n",
    "response = urlopen(link, timeout = 5)\n",
    "zipfile = ZipFile(BytesIO(response.read()))\n",
    "with zipfile as z:\n",
    "    z.extractall(\"AddressBase_Scripts\")\n",
    "    \n",
    "# Put the recordsplitter script in the same folder as the AddressBase csvs\n",
    "# import os \n",
    "# os.rename(\"AddressBase_Scripts/Code/AddressBasePremium_RecordSplitter.py\", \"raw/AddressBasePremium_RecordSplitter.py\")"
   ]
  },
  {
   "cell_type": "code",
   "execution_count": null,
   "metadata": {},
   "outputs": [],
   "source": []
  }
 ],
 "metadata": {
  "kernelspec": {
   "display_name": "Python 3",
   "language": "python",
   "name": "python3"
  },
  "language_info": {
   "codemirror_mode": {
    "name": "ipython",
    "version": 3
   },
   "file_extension": ".py",
   "mimetype": "text/x-python",
   "name": "python",
   "nbconvert_exporter": "python",
   "pygments_lexer": "ipython3",
   "version": "3.6.7"
  }
 },
 "nbformat": 4,
 "nbformat_minor": 2
}
