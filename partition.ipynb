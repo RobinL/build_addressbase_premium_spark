{
 "cells": [
  {
   "cell_type": "markdown",
   "metadata": {},
   "source": [
    "Conversion of `AddressBasePremium_RecordSplitter.py`  from the [OS scripts](https://s3-eu-west-1.amazonaws.com/osproducts/AddressBase/AddressBase_Scripts.zip) into Spark"
   ]
  },
  {
   "cell_type": "code",
   "execution_count": null,
   "metadata": {},
   "outputs": [],
   "source": [
    "from pyspark.sql import functions as fns\n",
    "from pyspark import  SparkContext\n",
    "from pyspark.sql import SparkSession\n",
    "sc = SparkContext.getOrCreate()\n",
    "spark = SparkSession(sc)"
   ]
  },
  {
   "cell_type": "code",
   "execution_count": null,
   "metadata": {},
   "outputs": [],
   "source": [
    "rdd = sc.textFile(\"TA1010.csv\")"
   ]
  },
  {
   "cell_type": "code",
   "execution_count": null,
   "metadata": {},
   "outputs": [],
   "source": [
    "# Characters up to the first comma determine the record type, want to split into one file per record type and write out "
   ]
  },
  {
   "cell_type": "code",
   "execution_count": null,
   "metadata": {},
   "outputs": [],
   "source": [
    "split_col = pyspark.sql.functions.split(df['my_str_col'], '-')\n",
    "df = df.withColumn('NAME1', split_col.getItem(0))"
   ]
  },
  {
   "cell_type": "code",
   "execution_count": null,
   "metadata": {},
   "outputs": [],
   "source": [
    "df = spark.read.text(\"TA1010.csv\")\n",
    "\n",
    "split_col = fns.split(df['value'], ',')\n",
    "df = df.withColumn('first_col', split_col.getItem(0))\n",
    "\n",
    "# Deal with possible errors - if first_col is not two characters, both digits, then remove \n",
    "df.filter()\n",
    "\n",
    "\n",
    "\n",
    "df.show()"
   ]
  },
  {
   "cell_type": "code",
   "execution_count": null,
   "metadata": {},
   "outputs": [],
   "source": [
    "df.write.partitionBy(\"first_col\").csv(\"out\", mode=\"overwrite\")"
   ]
  },
  {
   "cell_type": "code",
   "execution_count": null,
   "metadata": {},
   "outputs": [],
   "source": [
    "# How to include column headers?  Could manually write some additional lines to the rdd?  "
   ]
  },
  {
   "cell_type": "code",
   "execution_count": null,
   "metadata": {},
   "outputs": [],
   "source": [
    "df = spark.read.text(\"in\")\n",
    "df.show()"
   ]
  },
  {
   "cell_type": "code",
   "execution_count": null,
   "metadata": {},
   "outputs": [],
   "source": [
    "import zipfile\n",
    "import io\n",
    "\n",
    "def zip_extract(x):\n",
    "    in_memory_data = io.BytesIO(x[1])\n",
    "    file_obj = zipfile.ZipFile(in_memory_data, \"r\")\n",
    "    files = [i for i in file_obj.namelist()]\n",
    "    return dict(zip(files, [file_obj.open(file).read() for file in files]))\n",
    "\n",
    "\n",
    "zips = sc.binaryFiles(\"in\")\n",
    "files_data = zips.map(zip_extract).collect()\n",
    "files_data"
   ]
  },
  {
   "cell_type": "code",
   "execution_count": null,
   "metadata": {},
   "outputs": [],
   "source": []
  }
 ],
 "metadata": {
  "kernelspec": {
   "display_name": "Python 3",
   "language": "python",
   "name": "python3"
  },
  "language_info": {
   "codemirror_mode": {
    "name": "ipython",
    "version": 3
   },
   "file_extension": ".py",
   "mimetype": "text/x-python",
   "name": "python",
   "nbconvert_exporter": "python",
   "pygments_lexer": "ipython3",
   "version": "3.6.7"
  }
 },
 "nbformat": 4,
 "nbformat_minor": 2
}
