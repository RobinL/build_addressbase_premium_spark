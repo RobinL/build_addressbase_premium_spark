{
 "cells": [
  {
   "cell_type": "code",
   "execution_count": null,
   "metadata": {},
   "outputs": [],
   "source": [
    "from pyspark.sql import functions as fns\n",
    "from pyspark import  SparkContext\n",
    "from pyspark.sql import SparkSession\n",
    "sc = SparkContext.getOrCreate()\n",
    "spark = SparkSession(sc)"
   ]
  },
  {
   "cell_type": "code",
   "execution_count": null,
   "metadata": {},
   "outputs": [],
   "source": [
    "from read_zips_from_s3 import get_zip_data_from_s3"
   ]
  },
  {
   "cell_type": "code",
   "execution_count": null,
   "metadata": {},
   "outputs": [],
   "source": [
    "raw_data = get_zip_data_from_s3(sc)"
   ]
  },
  {
   "cell_type": "code",
   "execution_count": null,
   "metadata": {},
   "outputs": [],
   "source": [
    "split_col = fns.split(raw_data['line'], ',')\n",
    "raw_data = raw_data.withColumn('first_col', split_col.getItem(0))\n",
    "\n",
    "# Deal with possible errors - if first_col is not two characters, both digits, then remove \n",
    "conformant_data = raw_data.filter(raw_data[\"line\"].rlike(\"^\\d{2},\"))"
   ]
  },
  {
   "cell_type": "code",
   "execution_count": null,
   "metadata": {},
   "outputs": [],
   "source": [
    "# Count number of records of different types.  \n",
    "# TODO:  I think the metadatatable contains expected recordcounts?\n",
    "conformant_data.createOrReplaceTempView(\"df\")\n",
    "\n",
    "spark.sql(\"select first_col, count(*) from df group by first_col\").show()"
   ]
  },
  {
   "cell_type": "code",
   "execution_count": null,
   "metadata": {},
   "outputs": [],
   "source": [
    "conformant_data.write.partitionBy(\"first_col\").mode('overwrite').text(\"s3a://alpha-everyone/deleteathenaout/outtemp/\")"
   ]
  }
 ],
 "metadata": {
  "kernelspec": {
   "display_name": "Python 3",
   "language": "python",
   "name": "python3"
  },
  "language_info": {
   "codemirror_mode": {
    "name": "ipython",
    "version": 3
   },
   "file_extension": ".py",
   "mimetype": "text/x-python",
   "name": "python",
   "nbconvert_exporter": "python",
   "pygments_lexer": "ipython3",
   "version": "3.6.3"
  }
 },
 "nbformat": 4,
 "nbformat_minor": 2
}
